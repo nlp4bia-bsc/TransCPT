{
 "cells": [
  {
   "cell_type": "code",
   "execution_count": null,
   "metadata": {},
   "outputs": [],
   "source": [
    "import cosmos\n",
    "\n",
    "cosmos.initialization()"
   ]
  },
  {
   "cell_type": "code",
   "execution_count": null,
   "metadata": {},
   "outputs": [],
   "source": [
    "result = cosmos.run(\n",
    "    module_path=\"trans_cpt.training\",\n",
    "    function_name=\"training_pipeline\",\n",
    "    queue=\"acc_debug\",\n",
    "    user=\"bsc14\",\n",
    "    args=[{\n",
    "        \"data_path\": \"/gpfs/projects/bsc14/abecerr1/datasets/DT4H___wikipedia_cardiology_es/default/0.0.0/b20f70bf02ea8c0f5e0181e333b7b9ab3c610c4f\",\n",
    "    }],\n",
    "    requirements=[\n",
    "        \"datasets\",\n",
    "        \"transformers\",\n",
    "        \"torch\",\n",
    "        \"accelerate\",\n",
    "        \"tqdm\",\n",
    "        \"tensorboard\"\n",
    "    ],\n",
    "    modules=[\n",
    "        \"cuda/12.6\"\n",
    "    ],\n",
    "    partition=\"debug\",\n",
    "    nodes=1,\n",
    "    cpus=80,\n",
    "    gpus=4,\n",
    "    venv_path=\"/gpfs/projects/bsc14/environments/trans_cpt\",\n",
    "    custom_command=\"accelerate launch --config_file ./trans_cpt/accelerate_config.yaml\",\n",
    "    watch=True,\n",
    ")"
   ]
  },
  {
   "cell_type": "code",
   "execution_count": null,
   "metadata": {},
   "outputs": [],
   "source": [
    "result = cosmos.run(\n",
    "    module_path=\"trans_cpt.training\",\n",
    "    function_name=\"inference_pipeline\",\n",
    "    queue=\"acc_debug\",\n",
    "    user=\"bsc14\",\n",
    "    args=[{\n",
    "        \"model_path\": \"/gpfs/projects/bsc14/storage/models/transcpt/CardioBERTa_2025-01-17_15-27-01\",\n",
    "        \"text\": (\n",
    "            \"Con el diagnóstico de endocarditis infecciosa sobre válvula protésica por Bacteroides fragilis,\"\n",
    "            \"se comenzó tratamiento con metronidazol 500 mg/8 horas y amoxicilina-clavulánico 1000 mg/200mg/8 \"\n",
    "            \"horas intravenoso. La paciente permaneció <mask> durante todo el ingreso, senegativizaron los hemocultivos \"\n",
    "            \"de forma precoz y evolucionó de forma favorables de su ligera descompensación cardiaca con tratamiento\"\n",
    "            \"diurético. Tras 6 semanas de tratamiento antibiótico intravenoso dirigido, estando estable hemodinámicamente \"\n",
    "            \"y en buena clase funcional se dio de alta hospitalaria.\"\n",
    "        ),\n",
    "    }],\n",
    "    requirements=[\n",
    "        \"datasets\",\n",
    "        \"transformers\",\n",
    "        \"torch\",\n",
    "        \"accelerate\",\n",
    "        \"tqdm\",\n",
    "        \"tensorboard\"\n",
    "    ],\n",
    "    modules=[\n",
    "        \"cuda/12.6\"\n",
    "    ],\n",
    "    partition=\"debug\",\n",
    "    nodes=1,\n",
    "    cpus=80,\n",
    "    gpus=4,\n",
    "    venv_path=\"/gpfs/projects/bsc14/environments/trans_cpt\",\n",
    "    custom_command=\"accelerate launch --config_file ./trans_cpt/accelerate_config.yaml\",\n",
    "    watch=True,\n",
    ")"
   ]
  }
 ],
 "metadata": {
  "kernelspec": {
   "display_name": "Python 3",
   "language": "python",
   "name": "python3"
  },
  "language_info": {
   "codemirror_mode": {
    "name": "ipython",
    "version": 3
   },
   "file_extension": ".py",
   "mimetype": "text/x-python",
   "name": "python",
   "nbconvert_exporter": "python",
   "pygments_lexer": "ipython3",
   "version": "3.11.3"
  }
 },
 "nbformat": 4,
 "nbformat_minor": 2
}
