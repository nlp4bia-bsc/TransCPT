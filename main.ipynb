{
 "cells": [
  {
   "cell_type": "markdown",
   "metadata": {},
   "source": [
    "## Execution in local"
   ]
  },
  {
   "cell_type": "code",
   "execution_count": null,
   "metadata": {},
   "outputs": [],
   "source": [
    "# If you are using this remember do \"pip install -r requirements_cpt.txt\"\n",
    "from trans_cpt.preprocessing import get_dataset\n",
    "from trans_cpt.training import training_pipeline, inference_pipeline"
   ]
  },
  {
   "cell_type": "code",
   "execution_count": null,
   "metadata": {},
   "outputs": [],
   "source": [
    "get_dataset(\n",
    "    repository=\"huggingface\",\n",
    "    dataset_name=\"DT4H/the_chilean_waiting_list_corpus\"\n",
    ")"
   ]
  },
  {
   "cell_type": "code",
   "execution_count": null,
   "metadata": {},
   "outputs": [],
   "source": [
    "training_pipeline(\n",
    "    {\n",
    "        \"data_path\": \"/gpfs/projects/bsc14/abecerr1/datasets/DT4H___wikipedia_cardiology_es/default/0.0.0/b20f70bf02ea8c0f5e0181e333b7b9ab3c610c4f\",\n",
    "        \"batch_size\": 10,\n",
    "    }\n",
    ")"
   ]
  },
  {
   "cell_type": "code",
   "execution_count": null,
   "metadata": {},
   "outputs": [],
   "source": [
    "inference_pipeline({\n",
    "    \"model_path\":\"/gpfs/projects/bsc14/storage/models/transcpt/CardioBERTa_2025-01-17_15-27-01\",\n",
    "    \"text\":\"Con el diagnóstico de endocarditis infecciosa sobre válvula protésica por Bacteroides fragilis, se comenzó tratamiento con metronidazol 500 mg/8 horas y amoxicilina-clavulánico 1000 mg/200mg/8 horas intravenoso. La paciente permaneció <mask> durante todo el ingreso, senegativizaron los hemocultivos de forma precoz y evolucionó de forma favorables de su ligera descompensación cardiaca con tratamiento diurético. Tras 6 semanas de tratamiento antibiótico intravenoso dirigido, estando estable hemodinámicamente y en buena clase funcional se dio de alta hospitalaria.\",\n",
    "})"
   ]
  },
  {
   "cell_type": "markdown",
   "metadata": {},
   "source": [
    "## Execution in server remote with SLURM and cosmos-model library"
   ]
  },
  {
   "cell_type": "code",
   "execution_count": null,
   "metadata": {},
   "outputs": [],
   "source": [
    "# If you are using this remember do \"pip install -r requirements.txt\"\n",
    "\n",
    "import cosmos\n",
    "from cosmos.execution_types import TRAINING_MODEL\n",
    "\n",
    "cosmos.initialization(host=\"alogin2.bsc.es\")"
   ]
  },
  {
   "cell_type": "code",
   "execution_count": null,
   "metadata": {},
   "outputs": [],
   "source": [
    "result = cosmos.run(\n",
    "    module_path=\"trans_cpt.preprocessing\",\n",
    "    function_name=\"get_dataset\",\n",
    "    queue=\"acc_debug\",\n",
    "    user=\"bsc14\",\n",
    "    kwargs={\n",
    "        \"repository\": \"huggingface\",\n",
    "        \"dataset_name\": \"DT4H/the_chilean_waiting_list_corpus\",\n",
    "    },\n",
    "    requirements=[\"python-dotenv\", \"datasets\", \"fsspec\"],\n",
    "    modules=[],\n",
    "    partition=\"debug\",\n",
    "    nodes=1,\n",
    "    cpus=20,\n",
    "    gpus=1,\n",
    "    venv_path=\"/gpfs/projects/bsc14/environments/trans_cpt\",\n",
    "    watch=True,\n",
    "    execute_with_slurm=False,\n",
    ")"
   ]
  },
  {
   "cell_type": "code",
   "execution_count": null,
   "metadata": {},
   "outputs": [],
   "source": [
    "job = cosmos.run(\n",
    "    module_path=\"trans_cpt.training\",\n",
    "    function_name=\"training_pipeline\",\n",
    "    queue=\"acc_bscls\",\n",
    "    user=\"bsc14\",\n",
    "    args=[{\n",
    "        \"data_path\": \"/gpfs/projects/bsc14/abecerr1/datasets/DT4H___wikipedia_cardiology_es/default/0.0.0/b20f70bf02ea8c0f5e0181e333b7b9ab3c610c4f\",\n",
    "        \"batch_size\": 10,\n",
    "    }],\n",
    "    requirements=[\n",
    "        \"datasets\",\n",
    "        \"transformers\",\n",
    "        \"torch\",\n",
    "        \"accelerate\",\n",
    "        \"tqdm\",\n",
    "        \"tensorboard\"\n",
    "    ],\n",
    "    modules=[\n",
    "        \"cuda/12.6\",\n",
    "        \"nccl/2.20.5\",\n",
    "    ],\n",
    "    partition=\"debug\",\n",
    "    nodes=1,\n",
    "    cpus=80,\n",
    "    gpus=4,\n",
    "    venv_path=\"/gpfs/projects/bsc14/environments/trans_cpt\",\n",
    "    custom_command=\"accelerate launch --config_file ./trans_cpt/accelerate_data_parallelism_config.yaml\",\n",
    "    execution_type=TRAINING_MODEL,\n",
    "    training_logs_path=\"training_logs\",\n",
    "    watch=True,\n",
    ")\n"
   ]
  },
  {
   "cell_type": "code",
   "execution_count": null,
   "metadata": {},
   "outputs": [],
   "source": [
    "result = cosmos.run(\n",
    "    module_path=\"trans_cpt.training\",\n",
    "    function_name=\"inference_pipeline\",\n",
    "    queue=\"acc_debug\",\n",
    "    user=\"bsc14\",\n",
    "    args=[{\n",
    "        \"model_path\": \"/gpfs/projects/bsc14/storage/models/transcpt/CardioBERTa_2025-01-17_15-27-01\",\n",
    "        \"text\": (\n",
    "            \"Con el diagnóstico de endocarditis infecciosa sobre válvula protésica por Bacteroides fragilis,\"\n",
    "            \"se comenzó tratamiento con metronidazol 500 mg/8 horas y amoxicilina-clavulánico 1000 mg/200mg/8 \"\n",
    "            \"horas intravenoso. La paciente permaneció <mask> durante todo el ingreso, senegativizaron los hemocultivos \"\n",
    "            \"de forma precoz y evolucionó de forma favorables de su ligera descompensación cardiaca con tratamiento\"\n",
    "            \"diurético. Tras 6 semanas de tratamiento antibiótico intravenoso dirigido, estando estable hemodinámicamente \"\n",
    "            \"y en buena clase funcional se dio de alta hospitalaria.\"\n",
    "        ),\n",
    "    }],\n",
    "    requirements=[\n",
    "        \"datasets\",\n",
    "        \"transformers\",\n",
    "        \"torch\",\n",
    "        \"accelerate\",\n",
    "        \"tqdm\",\n",
    "        \"tensorboard\"\n",
    "    ],\n",
    "    modules=[\n",
    "        \"cuda/12.6\"\n",
    "    ],\n",
    "    partition=\"debug\",\n",
    "    nodes=1,\n",
    "    cpus=80,\n",
    "    gpus=4,\n",
    "    venv_path=\"/gpfs/projects/bsc14/environments/trans_cpt\",\n",
    "    custom_command=\"accelerate launch --config_file ./trans_cpt/accelerate_config.yaml\",\n",
    "    watch=True,\n",
    ")"
   ]
  }
 ],
 "metadata": {
  "kernelspec": {
   "display_name": "Python 3",
   "language": "python",
   "name": "python3"
  },
  "language_info": {
   "codemirror_mode": {
    "name": "ipython",
    "version": 3
   },
   "file_extension": ".py",
   "mimetype": "text/x-python",
   "name": "python",
   "nbconvert_exporter": "python",
   "pygments_lexer": "ipython3",
   "version": "3.11.3"
  }
 },
 "nbformat": 4,
 "nbformat_minor": 2
}
